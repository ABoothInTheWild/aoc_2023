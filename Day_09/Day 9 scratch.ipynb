{
 "cells": [
  {
   "cell_type": "code",
   "execution_count": 52,
   "id": "194e66ed",
   "metadata": {},
   "outputs": [],
   "source": [
    "import pandas as pd\n",
    "import numpy as np\n",
    "from aoc_helper import extract_ints"
   ]
  },
  {
   "cell_type": "code",
   "execution_count": 142,
   "id": "1d17f2aa",
   "metadata": {},
   "outputs": [
    {
     "data": {
      "text/plain": [
       "[list([0, 3, 6, 9, 12, 15]),\n",
       " list([1, 3, 6, 10, 15, 21]),\n",
       " list([10, 13, 16, 21, 30, 45])]"
      ]
     },
     "execution_count": 142,
     "metadata": {},
     "output_type": "execute_result"
    }
   ],
   "source": [
    "test = \"\"\"0 3 6 9 12 15\n",
    "1 3 6 10 15 21\n",
    "10 13 16 21 30 45\"\"\"\n",
    "\n",
    "lines = test.split(\"\\n\")\n",
    "lines = [extract_ints(x) for x in lines]\n",
    "lines"
   ]
  },
  {
   "cell_type": "code",
   "execution_count": 160,
   "id": "57a28baf",
   "metadata": {},
   "outputs": [],
   "source": [
    "with open(\"09_input.txt\") as f:\n",
    "    lines = [l.strip() for l in f.readlines()]\n",
    "    \n",
    "lines = [extract_ints(x) for x in lines]"
   ]
  },
  {
   "cell_type": "code",
   "execution_count": null,
   "id": "cac70af7",
   "metadata": {},
   "outputs": [],
   "source": []
  },
  {
   "cell_type": "code",
   "execution_count": 161,
   "id": "6a47d32d",
   "metadata": {},
   "outputs": [
    {
     "name": "stdout",
     "output_type": "stream",
     "text": [
      "1974232246.0\n",
      "928.0\n"
     ]
    }
   ],
   "source": [
    "total = 0\n",
    "total2 = 0\n",
    "\n",
    "for line in lines:\n",
    "    sub = pd.Series(line)\n",
    "    cols = [sub]\n",
    "\n",
    "    new = sub.copy()\n",
    "    count = 0\n",
    "    \n",
    "    is_zero = (new.fillna(0) == 0).all()\n",
    "\n",
    "    while not is_zero:\n",
    "        new = new.diff()\n",
    "        count += 1\n",
    "        cols.append(new)\n",
    "        is_zero = (new.fillna(0) == 0).all()\n",
    "\n",
    "    df = pd.DataFrame(cols).T\n",
    "    \n",
    "    # Part 1\n",
    "    last_row = []\n",
    "    cols = list(df.columns)[::-1]\n",
    "\n",
    "    for x in range(len(cols)):\n",
    "        col = cols[x]\n",
    "\n",
    "        if col == cols[0]:\n",
    "            val = 0\n",
    "        else:\n",
    "            val = df.iloc[-1, col] + last_row[x-1]\n",
    "\n",
    "        last_row.append(val)\n",
    "\n",
    "    last_row = last_row[::-1]\n",
    "\n",
    "    df.loc[len(df.index)] = last_row\n",
    "    final = df.iloc[-1, 0]\n",
    "    total += final\n",
    "    \n",
    "    # part 2\n",
    "    first_row = []\n",
    "    cols = list(df.columns)[::-1]\n",
    "\n",
    "    for x in range(len(cols)):\n",
    "        col = cols[x]\n",
    "\n",
    "        if col == cols[0]:\n",
    "            val = 0\n",
    "        else:\n",
    "            val = df.iloc[df[col].first_valid_index(), col] - first_row[x-1]\n",
    "\n",
    "        first_row.append(val)\n",
    "        \n",
    "    first_row = first_row[::-1]\n",
    "\n",
    "    df.loc[-1] = first_row\n",
    "    df.index = df.index + 1  # shifting index\n",
    "    df.sort_index(inplace=True) \n",
    "    \n",
    "    final = df.iloc[0, 0]\n",
    "    total2 += final\n",
    "    \n",
    "print(total)\n",
    "print(total2)"
   ]
  },
  {
   "cell_type": "code",
   "execution_count": null,
   "id": "3bb56317",
   "metadata": {},
   "outputs": [],
   "source": []
  }
 ],
 "metadata": {
  "kernelspec": {
   "display_name": "Python 3 (ipykernel)",
   "language": "python",
   "name": "python3"
  },
  "language_info": {
   "codemirror_mode": {
    "name": "ipython",
    "version": 3
   },
   "file_extension": ".py",
   "mimetype": "text/x-python",
   "name": "python",
   "nbconvert_exporter": "python",
   "pygments_lexer": "ipython3",
   "version": "3.11.3"
  }
 },
 "nbformat": 4,
 "nbformat_minor": 5
}
