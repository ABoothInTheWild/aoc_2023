{
 "cells": [
  {
   "cell_type": "code",
   "execution_count": 31,
   "id": "d573a37b",
   "metadata": {},
   "outputs": [],
   "source": [
    "from aoc_helper import extract_ints\n",
    "from collections import defaultdict"
   ]
  },
  {
   "cell_type": "code",
   "execution_count": 26,
   "id": "166f9fe1",
   "metadata": {},
   "outputs": [
    {
     "data": {
      "text/plain": [
       "['Card 1: 41 48 83 86 17 | 83 86  6 31 17  9 48 53',\n",
       " 'Card 2: 13 32 20 16 61 | 61 30 68 82 17 32 24 19',\n",
       " 'Card 3:  1 21 53 59 44 | 69 82 63 72 16 21 14  1',\n",
       " 'Card 4: 41 92 73 84 69 | 59 84 76 51 58  5 54 83',\n",
       " 'Card 5: 87 83 26 28 32 | 88 30 70 12 93 22 82 36',\n",
       " 'Card 6: 31 18 13 56 72 | 74 77 10 23 35 67 36 11']"
      ]
     },
     "execution_count": 26,
     "metadata": {},
     "output_type": "execute_result"
    }
   ],
   "source": [
    "test = \"\"\"Card 1: 41 48 83 86 17 | 83 86  6 31 17  9 48 53\n",
    "Card 2: 13 32 20 16 61 | 61 30 68 82 17 32 24 19\n",
    "Card 3:  1 21 53 59 44 | 69 82 63 72 16 21 14  1\n",
    "Card 4: 41 92 73 84 69 | 59 84 76 51 58  5 54 83\n",
    "Card 5: 87 83 26 28 32 | 88 30 70 12 93 22 82 36\n",
    "Card 6: 31 18 13 56 72 | 74 77 10 23 35 67 36 11\"\"\"\n",
    "\n",
    "test = test.split(\"\\n\")\n",
    "test"
   ]
  },
  {
   "cell_type": "code",
   "execution_count": 28,
   "id": "e813fe17",
   "metadata": {},
   "outputs": [],
   "source": [
    "with open(\"04_input.txt\") as f:\n",
    "    data = f.readlines()"
   ]
  },
  {
   "cell_type": "code",
   "execution_count": 37,
   "id": "a9124813",
   "metadata": {},
   "outputs": [
    {
     "data": {
      "text/plain": [
       "13"
      ]
     },
     "execution_count": 37,
     "metadata": {},
     "output_type": "execute_result"
    }
   ],
   "source": [
    "total = 0\n",
    "for row in test:\n",
    "    row = row.split(\": \")[1].split(\" | \")\n",
    "    winning_numbers = extract_ints(row[0])\n",
    "    our_nums = extract_ints(row[1])\n",
    "\n",
    "    cards = list(set(our_nums).intersection(winning_numbers))\n",
    "    \n",
    "    points = 0\n",
    "    if len(cards) > 0:\n",
    "        points += 2**(len(cards)-1)\n",
    "        \n",
    "    total += points\n",
    "    \n",
    "total"
   ]
  },
  {
   "cell_type": "code",
   "execution_count": 39,
   "id": "e4778883",
   "metadata": {},
   "outputs": [
    {
     "name": "stdout",
     "output_type": "stream",
     "text": [
      "7185540\n"
     ]
    }
   ],
   "source": [
    "card_wins = defaultdict(int)\n",
    "\n",
    "\n",
    "total = 0\n",
    "for i in range(len(data)):\n",
    "    row = data[i].split(\": \")[1].split(\" | \")\n",
    "    winning_numbers = extract_ints(row[0])\n",
    "    our_nums = extract_ints(row[1])\n",
    "\n",
    "    cards = list(set(our_nums).intersection(winning_numbers))\n",
    "    \n",
    "    card_wins[i] += 1\n",
    "    if len(cards) > 0:\n",
    "        for j in range(len(cards)):\n",
    "            card_wins[i+1+j] += card_wins[i]\n",
    "            \n",
    "print(sum(card_wins.values()))"
   ]
  },
  {
   "cell_type": "code",
   "execution_count": null,
   "id": "86a29563",
   "metadata": {},
   "outputs": [],
   "source": []
  }
 ],
 "metadata": {
  "kernelspec": {
   "display_name": "Python 3 (ipykernel)",
   "language": "python",
   "name": "python3"
  },
  "language_info": {
   "codemirror_mode": {
    "name": "ipython",
    "version": 3
   },
   "file_extension": ".py",
   "mimetype": "text/x-python",
   "name": "python",
   "nbconvert_exporter": "python",
   "pygments_lexer": "ipython3",
   "version": "3.11.3"
  }
 },
 "nbformat": 4,
 "nbformat_minor": 5
}
