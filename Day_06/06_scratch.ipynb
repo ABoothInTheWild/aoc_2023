{
 "cells": [
  {
   "cell_type": "code",
   "execution_count": 2,
   "id": "c339a7e1",
   "metadata": {},
   "outputs": [],
   "source": [
    "from aoc_helper import extract_ints"
   ]
  },
  {
   "cell_type": "code",
   "execution_count": 3,
   "id": "33e36177",
   "metadata": {},
   "outputs": [
    {
     "data": {
      "text/plain": [
       "['Time:      7  15   30', 'Distance:  9  40  200']"
      ]
     },
     "execution_count": 3,
     "metadata": {},
     "output_type": "execute_result"
    }
   ],
   "source": [
    "test = \"\"\"Time:      7  15   30\n",
    "Distance:  9  40  200\"\"\"\n",
    "\n",
    "lines = test.split(\"\\n\")\n",
    "\n",
    "lines"
   ]
  },
  {
   "cell_type": "code",
   "execution_count": 22,
   "id": "7ef63407",
   "metadata": {},
   "outputs": [],
   "source": [
    "with open(\"06_input.txt\") as f:\n",
    "    lines = [l.strip() for l in f.readlines()]"
   ]
  },
  {
   "cell_type": "code",
   "execution_count": 25,
   "id": "5a926ab1",
   "metadata": {},
   "outputs": [
    {
     "data": {
      "text/plain": [
       "[(59, 430), (70, 1218), (78, 1213), (78, 1276)]"
      ]
     },
     "execution_count": 25,
     "metadata": {},
     "output_type": "execute_result"
    }
   ],
   "source": [
    "times = extract_ints(lines[0])\n",
    "distances = extract_ints(lines[1])\n",
    "\n",
    "vals = list(zip(times, distances))\n",
    "vals"
   ]
  },
  {
   "cell_type": "code",
   "execution_count": 26,
   "id": "0775ea81",
   "metadata": {},
   "outputs": [
    {
     "data": {
      "text/plain": [
       "227850"
      ]
     },
     "execution_count": 26,
     "metadata": {},
     "output_type": "execute_result"
    }
   ],
   "source": [
    "total = 1\n",
    "\n",
    "for inp in vals:\n",
    "    x = inp[0]\n",
    "    count = 0\n",
    "    for i in range(x+1):\n",
    "        dist = i * (len(range(x)) - i)\n",
    "        if dist > inp[1]:\n",
    "            count += 1\n",
    "    \n",
    "    total *= count\n",
    "\n",
    "total"
   ]
  },
  {
   "cell_type": "code",
   "execution_count": null,
   "id": "46272624",
   "metadata": {},
   "outputs": [],
   "source": []
  },
  {
   "cell_type": "code",
   "execution_count": 27,
   "id": "55f397aa",
   "metadata": {},
   "outputs": [
    {
     "data": {
      "text/plain": [
       "[(59707878, 430121812131276)]"
      ]
     },
     "execution_count": 27,
     "metadata": {},
     "output_type": "execute_result"
    }
   ],
   "source": [
    "times = extract_ints(lines[0].replace(\" \", \"\"))\n",
    "distances = extract_ints(lines[1].replace(\" \", \"\"))\n",
    "\n",
    "vals = list(zip(times, distances))\n",
    "vals"
   ]
  },
  {
   "cell_type": "code",
   "execution_count": 28,
   "id": "93b260bc",
   "metadata": {},
   "outputs": [
    {
     "data": {
      "text/plain": [
       "42948149"
      ]
     },
     "execution_count": 28,
     "metadata": {},
     "output_type": "execute_result"
    }
   ],
   "source": [
    "total = 1\n",
    "\n",
    "for inp in vals:\n",
    "    x = inp[0]\n",
    "    count = 0\n",
    "    for i in range(x+1):\n",
    "        dist = i * (len(range(x)) - i)\n",
    "        if dist > inp[1]:\n",
    "            count += 1\n",
    "    \n",
    "    total *= count\n",
    "\n",
    "total"
   ]
  },
  {
   "cell_type": "code",
   "execution_count": null,
   "id": "0a8372be",
   "metadata": {},
   "outputs": [],
   "source": []
  }
 ],
 "metadata": {
  "kernelspec": {
   "display_name": "Python 3 (ipykernel)",
   "language": "python",
   "name": "python3"
  },
  "language_info": {
   "codemirror_mode": {
    "name": "ipython",
    "version": 3
   },
   "file_extension": ".py",
   "mimetype": "text/x-python",
   "name": "python",
   "nbconvert_exporter": "python",
   "pygments_lexer": "ipython3",
   "version": "3.11.3"
  }
 },
 "nbformat": 4,
 "nbformat_minor": 5
}
