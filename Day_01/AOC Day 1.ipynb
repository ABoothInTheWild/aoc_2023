{
 "cells": [
  {
   "cell_type": "code",
   "execution_count": 1,
   "id": "a4b1cd93",
   "metadata": {},
   "outputs": [],
   "source": [
    "import pandas as pd\n",
    "import numpy as np\n",
    "import re"
   ]
  },
  {
   "cell_type": "markdown",
   "id": "a1c30e8d",
   "metadata": {},
   "source": [
    "## Part 1"
   ]
  },
  {
   "cell_type": "code",
   "execution_count": 2,
   "id": "70e184d4",
   "metadata": {},
   "outputs": [
    {
     "data": {
      "text/html": [
       "<div>\n",
       "<style scoped>\n",
       "    .dataframe tbody tr th:only-of-type {\n",
       "        vertical-align: middle;\n",
       "    }\n",
       "\n",
       "    .dataframe tbody tr th {\n",
       "        vertical-align: top;\n",
       "    }\n",
       "\n",
       "    .dataframe thead th {\n",
       "        text-align: right;\n",
       "    }\n",
       "</style>\n",
       "<table border=\"1\" class=\"dataframe\">\n",
       "  <thead>\n",
       "    <tr style=\"text-align: right;\">\n",
       "      <th></th>\n",
       "      <th>inp</th>\n",
       "    </tr>\n",
       "  </thead>\n",
       "  <tbody>\n",
       "    <tr>\n",
       "      <th>0</th>\n",
       "      <td>51591twosix4dhsxvgghxq</td>\n",
       "    </tr>\n",
       "    <tr>\n",
       "      <th>1</th>\n",
       "      <td>425nine</td>\n",
       "    </tr>\n",
       "    <tr>\n",
       "      <th>2</th>\n",
       "      <td>llvmhjtr8nbbhrfone</td>\n",
       "    </tr>\n",
       "    <tr>\n",
       "      <th>3</th>\n",
       "      <td>lpbjvpbtdfvtxtdvkpjs7qrvddkzmjtlqtg</td>\n",
       "    </tr>\n",
       "    <tr>\n",
       "      <th>4</th>\n",
       "      <td>3sixnineseven</td>\n",
       "    </tr>\n",
       "  </tbody>\n",
       "</table>\n",
       "</div>"
      ],
      "text/plain": [
       "                                   inp\n",
       "0               51591twosix4dhsxvgghxq\n",
       "1                              425nine\n",
       "2                   llvmhjtr8nbbhrfone\n",
       "3  lpbjvpbtdfvtxtdvkpjs7qrvddkzmjtlqtg\n",
       "4                        3sixnineseven"
      ]
     },
     "execution_count": 2,
     "metadata": {},
     "output_type": "execute_result"
    }
   ],
   "source": [
    "df = pd.read_csv(\"r_01_input.txt\", header=None)\n",
    "df.columns = [\"inp\"]\n",
    "df.head()"
   ]
  },
  {
   "cell_type": "code",
   "execution_count": 3,
   "id": "fa0b1793",
   "metadata": {},
   "outputs": [
    {
     "data": {
      "text/html": [
       "<div>\n",
       "<style scoped>\n",
       "    .dataframe tbody tr th:only-of-type {\n",
       "        vertical-align: middle;\n",
       "    }\n",
       "\n",
       "    .dataframe tbody tr th {\n",
       "        vertical-align: top;\n",
       "    }\n",
       "\n",
       "    .dataframe thead th {\n",
       "        text-align: right;\n",
       "    }\n",
       "</style>\n",
       "<table border=\"1\" class=\"dataframe\">\n",
       "  <thead>\n",
       "    <tr style=\"text-align: right;\">\n",
       "      <th></th>\n",
       "      <th>inp</th>\n",
       "      <th>digits</th>\n",
       "    </tr>\n",
       "  </thead>\n",
       "  <tbody>\n",
       "    <tr>\n",
       "      <th>0</th>\n",
       "      <td>51591twosix4dhsxvgghxq</td>\n",
       "      <td>[5, 1, 5, 9, 1, 4]</td>\n",
       "    </tr>\n",
       "    <tr>\n",
       "      <th>1</th>\n",
       "      <td>425nine</td>\n",
       "      <td>[4, 2, 5]</td>\n",
       "    </tr>\n",
       "    <tr>\n",
       "      <th>2</th>\n",
       "      <td>llvmhjtr8nbbhrfone</td>\n",
       "      <td>[8]</td>\n",
       "    </tr>\n",
       "    <tr>\n",
       "      <th>3</th>\n",
       "      <td>lpbjvpbtdfvtxtdvkpjs7qrvddkzmjtlqtg</td>\n",
       "      <td>[7]</td>\n",
       "    </tr>\n",
       "    <tr>\n",
       "      <th>4</th>\n",
       "      <td>3sixnineseven</td>\n",
       "      <td>[3]</td>\n",
       "    </tr>\n",
       "  </tbody>\n",
       "</table>\n",
       "</div>"
      ],
      "text/plain": [
       "                                   inp              digits\n",
       "0               51591twosix4dhsxvgghxq  [5, 1, 5, 9, 1, 4]\n",
       "1                              425nine           [4, 2, 5]\n",
       "2                   llvmhjtr8nbbhrfone                 [8]\n",
       "3  lpbjvpbtdfvtxtdvkpjs7qrvddkzmjtlqtg                 [7]\n",
       "4                        3sixnineseven                 [3]"
      ]
     },
     "execution_count": 3,
     "metadata": {},
     "output_type": "execute_result"
    }
   ],
   "source": [
    "# Extract all digits, group and flatten Multi-Index into list\n",
    "# https://stackoverflow.com/a/48274708\n",
    "df[\"digits\"] = df.inp.str.extractall(\"(\\d)\").groupby(level=0)[0].apply(list)\n",
    "df.head()"
   ]
  },
  {
   "cell_type": "code",
   "execution_count": 4,
   "id": "c9f5894a",
   "metadata": {},
   "outputs": [
    {
     "data": {
      "text/html": [
       "<div>\n",
       "<style scoped>\n",
       "    .dataframe tbody tr th:only-of-type {\n",
       "        vertical-align: middle;\n",
       "    }\n",
       "\n",
       "    .dataframe tbody tr th {\n",
       "        vertical-align: top;\n",
       "    }\n",
       "\n",
       "    .dataframe thead th {\n",
       "        text-align: right;\n",
       "    }\n",
       "</style>\n",
       "<table border=\"1\" class=\"dataframe\">\n",
       "  <thead>\n",
       "    <tr style=\"text-align: right;\">\n",
       "      <th></th>\n",
       "      <th>inp</th>\n",
       "      <th>digits</th>\n",
       "      <th>calibration_value</th>\n",
       "    </tr>\n",
       "  </thead>\n",
       "  <tbody>\n",
       "    <tr>\n",
       "      <th>0</th>\n",
       "      <td>51591twosix4dhsxvgghxq</td>\n",
       "      <td>[5, 1, 5, 9, 1, 4]</td>\n",
       "      <td>54</td>\n",
       "    </tr>\n",
       "    <tr>\n",
       "      <th>1</th>\n",
       "      <td>425nine</td>\n",
       "      <td>[4, 2, 5]</td>\n",
       "      <td>45</td>\n",
       "    </tr>\n",
       "    <tr>\n",
       "      <th>2</th>\n",
       "      <td>llvmhjtr8nbbhrfone</td>\n",
       "      <td>[8]</td>\n",
       "      <td>88</td>\n",
       "    </tr>\n",
       "    <tr>\n",
       "      <th>3</th>\n",
       "      <td>lpbjvpbtdfvtxtdvkpjs7qrvddkzmjtlqtg</td>\n",
       "      <td>[7]</td>\n",
       "      <td>77</td>\n",
       "    </tr>\n",
       "    <tr>\n",
       "      <th>4</th>\n",
       "      <td>3sixnineseven</td>\n",
       "      <td>[3]</td>\n",
       "      <td>33</td>\n",
       "    </tr>\n",
       "  </tbody>\n",
       "</table>\n",
       "</div>"
      ],
      "text/plain": [
       "                                   inp              digits  calibration_value\n",
       "0               51591twosix4dhsxvgghxq  [5, 1, 5, 9, 1, 4]                 54\n",
       "1                              425nine           [4, 2, 5]                 45\n",
       "2                   llvmhjtr8nbbhrfone                 [8]                 88\n",
       "3  lpbjvpbtdfvtxtdvkpjs7qrvddkzmjtlqtg                 [7]                 77\n",
       "4                        3sixnineseven                 [3]                 33"
      ]
     },
     "execution_count": 4,
     "metadata": {},
     "output_type": "execute_result"
    }
   ],
   "source": [
    "# connect first/last digit\n",
    "df[\"calibration_value\"] = df.digits.apply(lambda x: int(f\"{x[0]}{x[-1]}\"))\n",
    "df.head()"
   ]
  },
  {
   "cell_type": "code",
   "execution_count": 5,
   "id": "676217e0",
   "metadata": {},
   "outputs": [
    {
     "data": {
      "text/plain": [
       "55712"
      ]
     },
     "execution_count": 5,
     "metadata": {},
     "output_type": "execute_result"
    }
   ],
   "source": [
    "df.calibration_value.sum()"
   ]
  },
  {
   "cell_type": "markdown",
   "id": "b03921f9",
   "metadata": {},
   "source": [
    "## Part 2"
   ]
  },
  {
   "cell_type": "code",
   "execution_count": 6,
   "id": "db90ad13",
   "metadata": {},
   "outputs": [],
   "source": [
    "vals = {\"one\":\"1\", \"two\":\"2\", \"three\":\"3\", \"four\":\"4\", \"five\":\"5\", \"six\":\"6\", \"seven\":\"7\", \"eight\":\"8\", \"nine\":\"9\"}"
   ]
  },
  {
   "cell_type": "code",
   "execution_count": 7,
   "id": "ef2d0579",
   "metadata": {},
   "outputs": [
    {
     "data": {
      "text/html": [
       "<div>\n",
       "<style scoped>\n",
       "    .dataframe tbody tr th:only-of-type {\n",
       "        vertical-align: middle;\n",
       "    }\n",
       "\n",
       "    .dataframe tbody tr th {\n",
       "        vertical-align: top;\n",
       "    }\n",
       "\n",
       "    .dataframe thead th {\n",
       "        text-align: right;\n",
       "    }\n",
       "</style>\n",
       "<table border=\"1\" class=\"dataframe\">\n",
       "  <thead>\n",
       "    <tr style=\"text-align: right;\">\n",
       "      <th></th>\n",
       "      <th>inp</th>\n",
       "      <th>digits</th>\n",
       "      <th>calibration_value</th>\n",
       "      <th>inp_clean</th>\n",
       "    </tr>\n",
       "  </thead>\n",
       "  <tbody>\n",
       "    <tr>\n",
       "      <th>0</th>\n",
       "      <td>51591twosix4dhsxvgghxq</td>\n",
       "      <td>[5, 1, 5, 9, 1, 4]</td>\n",
       "      <td>54</td>\n",
       "      <td>51591two2twosix6six4dhsxvgghxq</td>\n",
       "    </tr>\n",
       "    <tr>\n",
       "      <th>1</th>\n",
       "      <td>425nine</td>\n",
       "      <td>[4, 2, 5]</td>\n",
       "      <td>45</td>\n",
       "      <td>425nine9nine</td>\n",
       "    </tr>\n",
       "    <tr>\n",
       "      <th>2</th>\n",
       "      <td>llvmhjtr8nbbhrfone</td>\n",
       "      <td>[8]</td>\n",
       "      <td>88</td>\n",
       "      <td>llvmhjtr8nbbhrfone1one</td>\n",
       "    </tr>\n",
       "    <tr>\n",
       "      <th>3</th>\n",
       "      <td>lpbjvpbtdfvtxtdvkpjs7qrvddkzmjtlqtg</td>\n",
       "      <td>[7]</td>\n",
       "      <td>77</td>\n",
       "      <td>lpbjvpbtdfvtxtdvkpjs7qrvddkzmjtlqtg</td>\n",
       "    </tr>\n",
       "    <tr>\n",
       "      <th>4</th>\n",
       "      <td>3sixnineseven</td>\n",
       "      <td>[3]</td>\n",
       "      <td>33</td>\n",
       "      <td>3six6sixnine9nineseven7seven</td>\n",
       "    </tr>\n",
       "  </tbody>\n",
       "</table>\n",
       "</div>"
      ],
      "text/plain": [
       "                                   inp              digits  calibration_value  \\\n",
       "0               51591twosix4dhsxvgghxq  [5, 1, 5, 9, 1, 4]                 54   \n",
       "1                              425nine           [4, 2, 5]                 45   \n",
       "2                   llvmhjtr8nbbhrfone                 [8]                 88   \n",
       "3  lpbjvpbtdfvtxtdvkpjs7qrvddkzmjtlqtg                 [7]                 77   \n",
       "4                        3sixnineseven                 [3]                 33   \n",
       "\n",
       "                             inp_clean  \n",
       "0       51591two2twosix6six4dhsxvgghxq  \n",
       "1                         425nine9nine  \n",
       "2               llvmhjtr8nbbhrfone1one  \n",
       "3  lpbjvpbtdfvtxtdvkpjs7qrvddkzmjtlqtg  \n",
       "4         3six6sixnine9nineseven7seven  "
      ]
     },
     "execution_count": 7,
     "metadata": {},
     "output_type": "execute_result"
    }
   ],
   "source": [
    "# replace text words with digit\n",
    "df[\"inp_clean\"] = df.inp.copy()\n",
    "for x in vals.keys():\n",
    "    df[\"inp_clean\"] = df.inp_clean.str.replace(x, x+vals[x]+x) # hack to allow run-on words\n",
    "    # Turns kdeightwo69  into  kdeight8eightwo2two69, preserves order and allows all nums to be found\n",
    "    \n",
    "df.head()"
   ]
  },
  {
   "cell_type": "code",
   "execution_count": 8,
   "id": "91d08388",
   "metadata": {},
   "outputs": [
    {
     "data": {
      "text/html": [
       "<div>\n",
       "<style scoped>\n",
       "    .dataframe tbody tr th:only-of-type {\n",
       "        vertical-align: middle;\n",
       "    }\n",
       "\n",
       "    .dataframe tbody tr th {\n",
       "        vertical-align: top;\n",
       "    }\n",
       "\n",
       "    .dataframe thead th {\n",
       "        text-align: right;\n",
       "    }\n",
       "</style>\n",
       "<table border=\"1\" class=\"dataframe\">\n",
       "  <thead>\n",
       "    <tr style=\"text-align: right;\">\n",
       "      <th></th>\n",
       "      <th>inp</th>\n",
       "      <th>digits</th>\n",
       "      <th>calibration_value</th>\n",
       "      <th>inp_clean</th>\n",
       "      <th>digits2</th>\n",
       "      <th>calibration_value2</th>\n",
       "    </tr>\n",
       "  </thead>\n",
       "  <tbody>\n",
       "    <tr>\n",
       "      <th>0</th>\n",
       "      <td>51591twosix4dhsxvgghxq</td>\n",
       "      <td>[5, 1, 5, 9, 1, 4]</td>\n",
       "      <td>54</td>\n",
       "      <td>51591two2twosix6six4dhsxvgghxq</td>\n",
       "      <td>[5, 1, 5, 9, 1, 2, 6, 4]</td>\n",
       "      <td>54</td>\n",
       "    </tr>\n",
       "    <tr>\n",
       "      <th>1</th>\n",
       "      <td>425nine</td>\n",
       "      <td>[4, 2, 5]</td>\n",
       "      <td>45</td>\n",
       "      <td>425nine9nine</td>\n",
       "      <td>[4, 2, 5, 9]</td>\n",
       "      <td>49</td>\n",
       "    </tr>\n",
       "    <tr>\n",
       "      <th>2</th>\n",
       "      <td>llvmhjtr8nbbhrfone</td>\n",
       "      <td>[8]</td>\n",
       "      <td>88</td>\n",
       "      <td>llvmhjtr8nbbhrfone1one</td>\n",
       "      <td>[8, 1]</td>\n",
       "      <td>81</td>\n",
       "    </tr>\n",
       "    <tr>\n",
       "      <th>3</th>\n",
       "      <td>lpbjvpbtdfvtxtdvkpjs7qrvddkzmjtlqtg</td>\n",
       "      <td>[7]</td>\n",
       "      <td>77</td>\n",
       "      <td>lpbjvpbtdfvtxtdvkpjs7qrvddkzmjtlqtg</td>\n",
       "      <td>[7]</td>\n",
       "      <td>77</td>\n",
       "    </tr>\n",
       "    <tr>\n",
       "      <th>4</th>\n",
       "      <td>3sixnineseven</td>\n",
       "      <td>[3]</td>\n",
       "      <td>33</td>\n",
       "      <td>3six6sixnine9nineseven7seven</td>\n",
       "      <td>[3, 6, 9, 7]</td>\n",
       "      <td>37</td>\n",
       "    </tr>\n",
       "  </tbody>\n",
       "</table>\n",
       "</div>"
      ],
      "text/plain": [
       "                                   inp              digits  calibration_value  \\\n",
       "0               51591twosix4dhsxvgghxq  [5, 1, 5, 9, 1, 4]                 54   \n",
       "1                              425nine           [4, 2, 5]                 45   \n",
       "2                   llvmhjtr8nbbhrfone                 [8]                 88   \n",
       "3  lpbjvpbtdfvtxtdvkpjs7qrvddkzmjtlqtg                 [7]                 77   \n",
       "4                        3sixnineseven                 [3]                 33   \n",
       "\n",
       "                             inp_clean                   digits2  \\\n",
       "0       51591two2twosix6six4dhsxvgghxq  [5, 1, 5, 9, 1, 2, 6, 4]   \n",
       "1                         425nine9nine              [4, 2, 5, 9]   \n",
       "2               llvmhjtr8nbbhrfone1one                    [8, 1]   \n",
       "3  lpbjvpbtdfvtxtdvkpjs7qrvddkzmjtlqtg                       [7]   \n",
       "4         3six6sixnine9nineseven7seven              [3, 6, 9, 7]   \n",
       "\n",
       "   calibration_value2  \n",
       "0                  54  \n",
       "1                  49  \n",
       "2                  81  \n",
       "3                  77  \n",
       "4                  37  "
      ]
     },
     "execution_count": 8,
     "metadata": {},
     "output_type": "execute_result"
    }
   ],
   "source": [
    "df[\"digits2\"] = df.inp_clean.str.extractall(\"(\\d)\").groupby(level=0)[0].apply(list)\n",
    "df[\"calibration_value2\"] = df.digits2.apply(lambda x: int(f\"{x[0]}{x[-1]}\"))\n",
    "df.head(5)"
   ]
  },
  {
   "cell_type": "code",
   "execution_count": 9,
   "id": "c61fd5c8",
   "metadata": {},
   "outputs": [
    {
     "data": {
      "text/plain": [
       "55413"
      ]
     },
     "execution_count": 9,
     "metadata": {},
     "output_type": "execute_result"
    }
   ],
   "source": [
    "df.calibration_value2.sum()"
   ]
  },
  {
   "cell_type": "code",
   "execution_count": null,
   "id": "50a57924",
   "metadata": {},
   "outputs": [],
   "source": []
  }
 ],
 "metadata": {
  "kernelspec": {
   "display_name": "Python 3 (ipykernel)",
   "language": "python",
   "name": "python3"
  },
  "language_info": {
   "codemirror_mode": {
    "name": "ipython",
    "version": 3
   },
   "file_extension": ".py",
   "mimetype": "text/x-python",
   "name": "python",
   "nbconvert_exporter": "python",
   "pygments_lexer": "ipython3",
   "version": "3.10.12"
  }
 },
 "nbformat": 4,
 "nbformat_minor": 5
}
