{
 "cells": [
  {
   "cell_type": "code",
   "execution_count": null,
   "id": "87fd0ba0",
   "metadata": {},
   "outputs": [],
   "source": [
    "from aoc_helper import extract_ints\n",
    "from collections import defaultdict\n"
   ]
  },
  {
   "cell_type": "code",
   "execution_count": null,
   "id": "bab6a180",
   "metadata": {},
   "outputs": [],
   "source": [
    "test = \"\"\"seeds: 79 14 55 13\n",
    "\n",
    "seed-to-soil map:\n",
    "50 98 2\n",
    "52 50 48\n",
    "\n",
    "soil-to-fertilizer map:\n",
    "0 15 37\n",
    "37 52 2\n",
    "39 0 15\n",
    "\n",
    "fertilizer-to-water map:\n",
    "49 53 8\n",
    "0 11 42\n",
    "42 0 7\n",
    "57 7 4\n",
    "\n",
    "water-to-light map:\n",
    "88 18 7\n",
    "18 25 70\n",
    "\n",
    "light-to-temperature map:\n",
    "45 77 23\n",
    "81 45 19\n",
    "68 64 13\n",
    "\n",
    "temperature-to-humidity map:\n",
    "0 69 1\n",
    "1 0 69\n",
    "\n",
    "humidity-to-location map:\n",
    "60 56 37\n",
    "56 93 4\"\"\"\n",
    "\n",
    "lines = test.split(\"\\n\")\n"
   ]
  },
  {
   "cell_type": "code",
   "execution_count": null,
   "id": "d6fc197a",
   "metadata": {},
   "outputs": [],
   "source": [
    "with open(\"05_input.txt\") as f:\n",
    "    lines = [l.strip() for l in f.readlines()]\n"
   ]
  },
  {
   "cell_type": "code",
   "execution_count": null,
   "id": "121a8a4f",
   "metadata": {},
   "outputs": [],
   "source": [
    "seeds = extract_ints(lines[0])\n",
    "\n",
    "maps = []\n",
    "for row in lines[2:]:\n",
    "    if \"map\" in row:\n",
    "        sub = []\n",
    "    elif row == \"\":\n",
    "        maps.append(sub)\n",
    "    else:\n",
    "        sub.append(extract_ints(row))\n",
    "\n",
    "# last line\n",
    "maps.append(sub)\n",
    "\n",
    "# print(seeds)\n",
    "# print(maps)\n"
   ]
  },
  {
   "cell_type": "code",
   "execution_count": null,
   "id": "74fc990b",
   "metadata": {},
   "outputs": [],
   "source": [
    "vals = {}\n",
    "for seed in seeds:\n",
    "    vals[seed] = seed\n",
    "\n",
    "for seed in seeds:\n",
    "    for inp_map in maps:\n",
    "        val = vals[seed]\n",
    "        for inp in inp_map:\n",
    "            dest, source, range_len = inp[0], inp[1], inp[2]\n",
    "\n",
    "            diff = dest - source\n",
    "            if (val >= source) and (val < source + range_len):\n",
    "                val = val + diff\n",
    "                break\n",
    "\n",
    "        vals[seed] = val\n"
   ]
  },
  {
   "cell_type": "code",
   "execution_count": null,
   "id": "e9ca6ae0",
   "metadata": {},
   "outputs": [],
   "source": [
    "min(vals.values())\n"
   ]
  },
  {
   "cell_type": "code",
   "execution_count": null,
   "id": "08d51a8a",
   "metadata": {},
   "outputs": [],
   "source": []
  },
  {
   "cell_type": "code",
   "execution_count": null,
   "id": "ce1e8e0d",
   "metadata": {},
   "outputs": [],
   "source": [
    "real_seeds = []\n",
    "seeds = extract_ints(lines[0])\n",
    "print(seeds)\n",
    "\n",
    "maps = []\n",
    "for row in lines[2:]:\n",
    "    if \"map\" in row:\n",
    "        sub = []\n",
    "    elif row == \"\":\n",
    "        maps.append(sub)\n",
    "    else:\n",
    "        sub.append(extract_ints(row))\n"
   ]
  },
  {
   "cell_type": "code",
   "execution_count": null,
   "id": "5769afc6",
   "metadata": {},
   "outputs": [],
   "source": [
    "vals = {}\n",
    "real_seeds = set()\n",
    "\n",
    "for i in range(0, len(seeds), 2):\n",
    "    ugh = range(seeds[i], seeds[i] + seeds[i+1])\n",
    "    print(ugh)\n",
    "    for j in ugh:\n",
    "        if j not in vals.keys():\n",
    "            vals[j] = j\n",
    "\n",
    "            for inp_map in maps:\n",
    "                val = vals[j]\n",
    "                for inp in inp_map:\n",
    "                    dest, source, range_len = inp[0], inp[1], inp[2]\n",
    "\n",
    "                    diff = dest - source\n",
    "                    if (val >= source) and (val < source + range_len):\n",
    "                        val = val + diff\n",
    "                        break\n",
    "\n",
    "                vals[seed] = val\n"
   ]
  },
  {
   "cell_type": "code",
   "execution_count": null,
   "id": "83d16104",
   "metadata": {},
   "outputs": [],
   "source": [
    "min(vals.values())\n"
   ]
  },
  {
   "cell_type": "code",
   "execution_count": null,
   "id": "db24aae9",
   "metadata": {},
   "outputs": [],
   "source": []
  }
 ],
 "metadata": {
  "kernelspec": {
   "display_name": "Python 3 (ipykernel)",
   "language": "python",
   "name": "python3"
  },
  "language_info": {
   "codemirror_mode": {
    "name": "ipython",
    "version": 3
   },
   "file_extension": ".py",
   "mimetype": "text/x-python",
   "name": "python",
   "nbconvert_exporter": "python",
   "pygments_lexer": "ipython3",
   "version": "3.11.3"
  }
 },
 "nbformat": 4,
 "nbformat_minor": 5
}
